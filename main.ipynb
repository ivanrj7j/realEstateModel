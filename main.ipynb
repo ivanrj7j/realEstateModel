{
 "cells": [
  {
   "cell_type": "markdown",
   "metadata": {},
   "source": [
    "# Real Estate Price Recommender"
   ]
  },
  {
   "cell_type": "markdown",
   "metadata": {},
   "source": [
    "This is a Linear Regression Machine Learning Model which uses data fetched from makaan.com to recommend appropriate price for the house. This model considers the factors like number of bathrooms, number of balconies, area, amneties and average distance to places such as schools to recommend appropriate value for the house.\n",
    "\n",
    "This product is not ready for deployement and is just a prototype as the data I could gather was very limited. Feeding more data will imporve the accuracy of the model."
   ]
  },
  {
   "cell_type": "code",
   "execution_count": 142,
   "metadata": {},
   "outputs": [],
   "source": [
    "import pandas as pd\n",
    "from matplotlib import pyplot as plt\n",
    "import numpy as np\n",
    "# importing modules "
   ]
  },
  {
   "cell_type": "code",
   "execution_count": 143,
   "metadata": {},
   "outputs": [],
   "source": [
    "np.random.seed(69)"
   ]
  },
  {
   "cell_type": "code",
   "execution_count": 144,
   "metadata": {},
   "outputs": [],
   "source": [
    "housingData = pd.read_csv('data.csv')\n",
    "# importing the housing data "
   ]
  },
  {
   "cell_type": "markdown",
   "metadata": {},
   "source": [
    "## Analysing Data"
   ]
  },
  {
   "cell_type": "code",
   "execution_count": 145,
   "metadata": {},
   "outputs": [
    {
     "data": {
      "text/html": [
       "<div>\n",
       "<style scoped>\n",
       "    .dataframe tbody tr th:only-of-type {\n",
       "        vertical-align: middle;\n",
       "    }\n",
       "\n",
       "    .dataframe tbody tr th {\n",
       "        vertical-align: top;\n",
       "    }\n",
       "\n",
       "    .dataframe thead th {\n",
       "        text-align: right;\n",
       "    }\n",
       "</style>\n",
       "<table border=\"1\" class=\"dataframe\">\n",
       "  <thead>\n",
       "    <tr style=\"text-align: right;\">\n",
       "      <th></th>\n",
       "      <th>age</th>\n",
       "      <th>area</th>\n",
       "      <th>atmDistance</th>\n",
       "      <th>balconies</th>\n",
       "      <th>childrenPlayArea</th>\n",
       "      <th>clubHouse</th>\n",
       "      <th>garden</th>\n",
       "      <th>gym</th>\n",
       "      <th>hospitalDistance</th>\n",
       "      <th>joggingTrack</th>\n",
       "      <th>lift</th>\n",
       "      <th>powerBackup</th>\n",
       "      <th>price</th>\n",
       "      <th>restrauntDistance</th>\n",
       "      <th>schoolDistance</th>\n",
       "      <th>security</th>\n",
       "      <th>shoppingDistance</th>\n",
       "      <th>sportsFacility</th>\n",
       "      <th>status</th>\n",
       "      <th>swimmingPool</th>\n",
       "    </tr>\n",
       "  </thead>\n",
       "  <tbody>\n",
       "    <tr>\n",
       "      <th>0</th>\n",
       "      <td>1</td>\n",
       "      <td>2800</td>\n",
       "      <td>0.392013</td>\n",
       "      <td>1</td>\n",
       "      <td>0</td>\n",
       "      <td>0</td>\n",
       "      <td>0</td>\n",
       "      <td>0</td>\n",
       "      <td>0.272617</td>\n",
       "      <td>0</td>\n",
       "      <td>0</td>\n",
       "      <td>0</td>\n",
       "      <td>9200000</td>\n",
       "      <td>0.648266</td>\n",
       "      <td>0.216812</td>\n",
       "      <td>0</td>\n",
       "      <td>0.555410</td>\n",
       "      <td>0</td>\n",
       "      <td>1</td>\n",
       "      <td>0</td>\n",
       "    </tr>\n",
       "    <tr>\n",
       "      <th>1</th>\n",
       "      <td>0</td>\n",
       "      <td>1500</td>\n",
       "      <td>0.340127</td>\n",
       "      <td>1</td>\n",
       "      <td>0</td>\n",
       "      <td>0</td>\n",
       "      <td>0</td>\n",
       "      <td>0</td>\n",
       "      <td>0.556446</td>\n",
       "      <td>0</td>\n",
       "      <td>0</td>\n",
       "      <td>0</td>\n",
       "      <td>4250000</td>\n",
       "      <td>0.596147</td>\n",
       "      <td>0.239233</td>\n",
       "      <td>0</td>\n",
       "      <td>0.389779</td>\n",
       "      <td>0</td>\n",
       "      <td>0</td>\n",
       "      <td>0</td>\n",
       "    </tr>\n",
       "    <tr>\n",
       "      <th>2</th>\n",
       "      <td>0</td>\n",
       "      <td>1500</td>\n",
       "      <td>0.000000</td>\n",
       "      <td>1</td>\n",
       "      <td>0</td>\n",
       "      <td>0</td>\n",
       "      <td>0</td>\n",
       "      <td>0</td>\n",
       "      <td>0.000000</td>\n",
       "      <td>0</td>\n",
       "      <td>0</td>\n",
       "      <td>0</td>\n",
       "      <td>4250000</td>\n",
       "      <td>0.000000</td>\n",
       "      <td>0.000000</td>\n",
       "      <td>0</td>\n",
       "      <td>0.000000</td>\n",
       "      <td>0</td>\n",
       "      <td>0</td>\n",
       "      <td>0</td>\n",
       "    </tr>\n",
       "    <tr>\n",
       "      <th>3</th>\n",
       "      <td>0</td>\n",
       "      <td>1500</td>\n",
       "      <td>0.000000</td>\n",
       "      <td>1</td>\n",
       "      <td>0</td>\n",
       "      <td>0</td>\n",
       "      <td>0</td>\n",
       "      <td>0</td>\n",
       "      <td>0.000000</td>\n",
       "      <td>0</td>\n",
       "      <td>0</td>\n",
       "      <td>0</td>\n",
       "      <td>4500000</td>\n",
       "      <td>0.000000</td>\n",
       "      <td>0.000000</td>\n",
       "      <td>0</td>\n",
       "      <td>0.000000</td>\n",
       "      <td>0</td>\n",
       "      <td>0</td>\n",
       "      <td>0</td>\n",
       "    </tr>\n",
       "    <tr>\n",
       "      <th>4</th>\n",
       "      <td>0</td>\n",
       "      <td>1500</td>\n",
       "      <td>0.000000</td>\n",
       "      <td>1</td>\n",
       "      <td>0</td>\n",
       "      <td>0</td>\n",
       "      <td>0</td>\n",
       "      <td>0</td>\n",
       "      <td>0.000000</td>\n",
       "      <td>0</td>\n",
       "      <td>0</td>\n",
       "      <td>0</td>\n",
       "      <td>4250000</td>\n",
       "      <td>0.000000</td>\n",
       "      <td>0.000000</td>\n",
       "      <td>0</td>\n",
       "      <td>0.000000</td>\n",
       "      <td>0</td>\n",
       "      <td>0</td>\n",
       "      <td>0</td>\n",
       "    </tr>\n",
       "  </tbody>\n",
       "</table>\n",
       "</div>"
      ],
      "text/plain": [
       "   age  area  atmDistance  balconies  childrenPlayArea  clubHouse  garden  \\\n",
       "0    1  2800     0.392013          1                 0          0       0   \n",
       "1    0  1500     0.340127          1                 0          0       0   \n",
       "2    0  1500     0.000000          1                 0          0       0   \n",
       "3    0  1500     0.000000          1                 0          0       0   \n",
       "4    0  1500     0.000000          1                 0          0       0   \n",
       "\n",
       "   gym  hospitalDistance  joggingTrack  lift  powerBackup    price  \\\n",
       "0    0          0.272617             0     0            0  9200000   \n",
       "1    0          0.556446             0     0            0  4250000   \n",
       "2    0          0.000000             0     0            0  4250000   \n",
       "3    0          0.000000             0     0            0  4500000   \n",
       "4    0          0.000000             0     0            0  4250000   \n",
       "\n",
       "   restrauntDistance  schoolDistance  security  shoppingDistance  \\\n",
       "0           0.648266        0.216812         0          0.555410   \n",
       "1           0.596147        0.239233         0          0.389779   \n",
       "2           0.000000        0.000000         0          0.000000   \n",
       "3           0.000000        0.000000         0          0.000000   \n",
       "4           0.000000        0.000000         0          0.000000   \n",
       "\n",
       "   sportsFacility  status  swimmingPool  \n",
       "0               0       1             0  \n",
       "1               0       0             0  \n",
       "2               0       0             0  \n",
       "3               0       0             0  \n",
       "4               0       0             0  "
      ]
     },
     "execution_count": 145,
     "metadata": {},
     "output_type": "execute_result"
    }
   ],
   "source": [
    "housingData.head()"
   ]
  },
  {
   "cell_type": "code",
   "execution_count": 146,
   "metadata": {},
   "outputs": [
    {
     "data": {
      "text/html": [
       "<div>\n",
       "<style scoped>\n",
       "    .dataframe tbody tr th:only-of-type {\n",
       "        vertical-align: middle;\n",
       "    }\n",
       "\n",
       "    .dataframe tbody tr th {\n",
       "        vertical-align: top;\n",
       "    }\n",
       "\n",
       "    .dataframe thead th {\n",
       "        text-align: right;\n",
       "    }\n",
       "</style>\n",
       "<table border=\"1\" class=\"dataframe\">\n",
       "  <thead>\n",
       "    <tr style=\"text-align: right;\">\n",
       "      <th></th>\n",
       "      <th>age</th>\n",
       "      <th>area</th>\n",
       "      <th>atmDistance</th>\n",
       "      <th>balconies</th>\n",
       "      <th>childrenPlayArea</th>\n",
       "      <th>clubHouse</th>\n",
       "      <th>garden</th>\n",
       "      <th>gym</th>\n",
       "      <th>hospitalDistance</th>\n",
       "      <th>joggingTrack</th>\n",
       "      <th>lift</th>\n",
       "      <th>powerBackup</th>\n",
       "      <th>price</th>\n",
       "      <th>restrauntDistance</th>\n",
       "      <th>schoolDistance</th>\n",
       "      <th>security</th>\n",
       "      <th>shoppingDistance</th>\n",
       "      <th>sportsFacility</th>\n",
       "      <th>status</th>\n",
       "      <th>swimmingPool</th>\n",
       "    </tr>\n",
       "  </thead>\n",
       "  <tbody>\n",
       "    <tr>\n",
       "      <th>count</th>\n",
       "      <td>647.000000</td>\n",
       "      <td>647.000000</td>\n",
       "      <td>647.000000</td>\n",
       "      <td>647.000000</td>\n",
       "      <td>647.000000</td>\n",
       "      <td>647.000000</td>\n",
       "      <td>647.000000</td>\n",
       "      <td>647.000000</td>\n",
       "      <td>647.000000</td>\n",
       "      <td>647.00000</td>\n",
       "      <td>647.000000</td>\n",
       "      <td>647.000000</td>\n",
       "      <td>6.470000e+02</td>\n",
       "      <td>647.000000</td>\n",
       "      <td>647.000000</td>\n",
       "      <td>647.000000</td>\n",
       "      <td>647.000000</td>\n",
       "      <td>647.000000</td>\n",
       "      <td>647.000000</td>\n",
       "      <td>647.000000</td>\n",
       "    </tr>\n",
       "    <tr>\n",
       "      <th>mean</th>\n",
       "      <td>0.391036</td>\n",
       "      <td>2017.684699</td>\n",
       "      <td>0.221741</td>\n",
       "      <td>0.887172</td>\n",
       "      <td>0.047913</td>\n",
       "      <td>0.098918</td>\n",
       "      <td>0.026275</td>\n",
       "      <td>0.120556</td>\n",
       "      <td>0.229591</td>\n",
       "      <td>0.02473</td>\n",
       "      <td>0.040185</td>\n",
       "      <td>0.057187</td>\n",
       "      <td>7.095735e+06</td>\n",
       "      <td>0.245216</td>\n",
       "      <td>0.216870</td>\n",
       "      <td>0.044822</td>\n",
       "      <td>0.214874</td>\n",
       "      <td>0.018547</td>\n",
       "      <td>0.236476</td>\n",
       "      <td>0.035549</td>\n",
       "    </tr>\n",
       "    <tr>\n",
       "      <th>std</th>\n",
       "      <td>1.831133</td>\n",
       "      <td>1848.279592</td>\n",
       "      <td>0.306937</td>\n",
       "      <td>0.587227</td>\n",
       "      <td>0.213748</td>\n",
       "      <td>0.298783</td>\n",
       "      <td>0.160076</td>\n",
       "      <td>0.325863</td>\n",
       "      <td>0.254640</td>\n",
       "      <td>0.15542</td>\n",
       "      <td>0.196546</td>\n",
       "      <td>0.232379</td>\n",
       "      <td>1.832963e+07</td>\n",
       "      <td>0.377272</td>\n",
       "      <td>0.241880</td>\n",
       "      <td>0.207074</td>\n",
       "      <td>0.260065</td>\n",
       "      <td>0.135023</td>\n",
       "      <td>0.560323</td>\n",
       "      <td>0.185305</td>\n",
       "    </tr>\n",
       "    <tr>\n",
       "      <th>min</th>\n",
       "      <td>0.000000</td>\n",
       "      <td>99.000000</td>\n",
       "      <td>0.000000</td>\n",
       "      <td>0.000000</td>\n",
       "      <td>0.000000</td>\n",
       "      <td>0.000000</td>\n",
       "      <td>0.000000</td>\n",
       "      <td>0.000000</td>\n",
       "      <td>0.000000</td>\n",
       "      <td>0.00000</td>\n",
       "      <td>0.000000</td>\n",
       "      <td>0.000000</td>\n",
       "      <td>7.000000e+05</td>\n",
       "      <td>0.000000</td>\n",
       "      <td>0.000000</td>\n",
       "      <td>0.000000</td>\n",
       "      <td>0.000000</td>\n",
       "      <td>0.000000</td>\n",
       "      <td>0.000000</td>\n",
       "      <td>0.000000</td>\n",
       "    </tr>\n",
       "    <tr>\n",
       "      <th>25%</th>\n",
       "      <td>0.000000</td>\n",
       "      <td>1500.000000</td>\n",
       "      <td>0.000000</td>\n",
       "      <td>1.000000</td>\n",
       "      <td>0.000000</td>\n",
       "      <td>0.000000</td>\n",
       "      <td>0.000000</td>\n",
       "      <td>0.000000</td>\n",
       "      <td>0.000000</td>\n",
       "      <td>0.00000</td>\n",
       "      <td>0.000000</td>\n",
       "      <td>0.000000</td>\n",
       "      <td>3.800000e+06</td>\n",
       "      <td>0.000000</td>\n",
       "      <td>0.000000</td>\n",
       "      <td>0.000000</td>\n",
       "      <td>0.000000</td>\n",
       "      <td>0.000000</td>\n",
       "      <td>0.000000</td>\n",
       "      <td>0.000000</td>\n",
       "    </tr>\n",
       "    <tr>\n",
       "      <th>50%</th>\n",
       "      <td>0.000000</td>\n",
       "      <td>1500.000000</td>\n",
       "      <td>0.000000</td>\n",
       "      <td>1.000000</td>\n",
       "      <td>0.000000</td>\n",
       "      <td>0.000000</td>\n",
       "      <td>0.000000</td>\n",
       "      <td>0.000000</td>\n",
       "      <td>0.166201</td>\n",
       "      <td>0.00000</td>\n",
       "      <td>0.000000</td>\n",
       "      <td>0.000000</td>\n",
       "      <td>4.500000e+06</td>\n",
       "      <td>0.000000</td>\n",
       "      <td>0.216812</td>\n",
       "      <td>0.000000</td>\n",
       "      <td>0.000000</td>\n",
       "      <td>0.000000</td>\n",
       "      <td>0.000000</td>\n",
       "      <td>0.000000</td>\n",
       "    </tr>\n",
       "    <tr>\n",
       "      <th>75%</th>\n",
       "      <td>0.000000</td>\n",
       "      <td>2100.000000</td>\n",
       "      <td>0.340127</td>\n",
       "      <td>1.000000</td>\n",
       "      <td>0.000000</td>\n",
       "      <td>0.000000</td>\n",
       "      <td>0.000000</td>\n",
       "      <td>0.000000</td>\n",
       "      <td>0.371333</td>\n",
       "      <td>0.00000</td>\n",
       "      <td>0.000000</td>\n",
       "      <td>0.000000</td>\n",
       "      <td>8.000000e+06</td>\n",
       "      <td>0.387918</td>\n",
       "      <td>0.330241</td>\n",
       "      <td>0.000000</td>\n",
       "      <td>0.389779</td>\n",
       "      <td>0.000000</td>\n",
       "      <td>0.000000</td>\n",
       "      <td>0.000000</td>\n",
       "    </tr>\n",
       "    <tr>\n",
       "      <th>max</th>\n",
       "      <td>21.000000</td>\n",
       "      <td>20000.000000</td>\n",
       "      <td>2.691821</td>\n",
       "      <td>7.000000</td>\n",
       "      <td>1.000000</td>\n",
       "      <td>1.000000</td>\n",
       "      <td>1.000000</td>\n",
       "      <td>1.000000</td>\n",
       "      <td>1.135314</td>\n",
       "      <td>1.00000</td>\n",
       "      <td>1.000000</td>\n",
       "      <td>1.000000</td>\n",
       "      <td>4.200000e+08</td>\n",
       "      <td>3.091908</td>\n",
       "      <td>1.074679</td>\n",
       "      <td>1.000000</td>\n",
       "      <td>1.012796</td>\n",
       "      <td>1.000000</td>\n",
       "      <td>2.000000</td>\n",
       "      <td>1.000000</td>\n",
       "    </tr>\n",
       "  </tbody>\n",
       "</table>\n",
       "</div>"
      ],
      "text/plain": [
       "              age          area  atmDistance   balconies  childrenPlayArea  \\\n",
       "count  647.000000    647.000000   647.000000  647.000000        647.000000   \n",
       "mean     0.391036   2017.684699     0.221741    0.887172          0.047913   \n",
       "std      1.831133   1848.279592     0.306937    0.587227          0.213748   \n",
       "min      0.000000     99.000000     0.000000    0.000000          0.000000   \n",
       "25%      0.000000   1500.000000     0.000000    1.000000          0.000000   \n",
       "50%      0.000000   1500.000000     0.000000    1.000000          0.000000   \n",
       "75%      0.000000   2100.000000     0.340127    1.000000          0.000000   \n",
       "max     21.000000  20000.000000     2.691821    7.000000          1.000000   \n",
       "\n",
       "        clubHouse      garden         gym  hospitalDistance  joggingTrack  \\\n",
       "count  647.000000  647.000000  647.000000        647.000000     647.00000   \n",
       "mean     0.098918    0.026275    0.120556          0.229591       0.02473   \n",
       "std      0.298783    0.160076    0.325863          0.254640       0.15542   \n",
       "min      0.000000    0.000000    0.000000          0.000000       0.00000   \n",
       "25%      0.000000    0.000000    0.000000          0.000000       0.00000   \n",
       "50%      0.000000    0.000000    0.000000          0.166201       0.00000   \n",
       "75%      0.000000    0.000000    0.000000          0.371333       0.00000   \n",
       "max      1.000000    1.000000    1.000000          1.135314       1.00000   \n",
       "\n",
       "             lift  powerBackup         price  restrauntDistance  \\\n",
       "count  647.000000   647.000000  6.470000e+02         647.000000   \n",
       "mean     0.040185     0.057187  7.095735e+06           0.245216   \n",
       "std      0.196546     0.232379  1.832963e+07           0.377272   \n",
       "min      0.000000     0.000000  7.000000e+05           0.000000   \n",
       "25%      0.000000     0.000000  3.800000e+06           0.000000   \n",
       "50%      0.000000     0.000000  4.500000e+06           0.000000   \n",
       "75%      0.000000     0.000000  8.000000e+06           0.387918   \n",
       "max      1.000000     1.000000  4.200000e+08           3.091908   \n",
       "\n",
       "       schoolDistance    security  shoppingDistance  sportsFacility  \\\n",
       "count      647.000000  647.000000        647.000000      647.000000   \n",
       "mean         0.216870    0.044822          0.214874        0.018547   \n",
       "std          0.241880    0.207074          0.260065        0.135023   \n",
       "min          0.000000    0.000000          0.000000        0.000000   \n",
       "25%          0.000000    0.000000          0.000000        0.000000   \n",
       "50%          0.216812    0.000000          0.000000        0.000000   \n",
       "75%          0.330241    0.000000          0.389779        0.000000   \n",
       "max          1.074679    1.000000          1.012796        1.000000   \n",
       "\n",
       "           status  swimmingPool  \n",
       "count  647.000000    647.000000  \n",
       "mean     0.236476      0.035549  \n",
       "std      0.560323      0.185305  \n",
       "min      0.000000      0.000000  \n",
       "25%      0.000000      0.000000  \n",
       "50%      0.000000      0.000000  \n",
       "75%      0.000000      0.000000  \n",
       "max      2.000000      1.000000  "
      ]
     },
     "execution_count": 146,
     "metadata": {},
     "output_type": "execute_result"
    }
   ],
   "source": [
    "housingData.describe()"
   ]
  },
  {
   "cell_type": "markdown",
   "metadata": {},
   "source": [
    ">### Observations\n",
    "> - The house prices ranges from 7,00,000(7 lakhs) to 42,00,00,000(42 crore)\n",
    "> - Most of the houses(50 percentile) of the houses are under 45,00,000(45 lakhs)\n",
    "> - The mean price of houses in the dataset is 70,95,735"
   ]
  },
  {
   "cell_type": "code",
   "execution_count": 147,
   "metadata": {},
   "outputs": [
    {
     "data": {
      "text/plain": [
       "array([[<AxesSubplot:title={'center':'age'}>,\n",
       "        <AxesSubplot:title={'center':'area'}>,\n",
       "        <AxesSubplot:title={'center':'atmDistance'}>,\n",
       "        <AxesSubplot:title={'center':'balconies'}>],\n",
       "       [<AxesSubplot:title={'center':'childrenPlayArea'}>,\n",
       "        <AxesSubplot:title={'center':'clubHouse'}>,\n",
       "        <AxesSubplot:title={'center':'garden'}>,\n",
       "        <AxesSubplot:title={'center':'gym'}>],\n",
       "       [<AxesSubplot:title={'center':'hospitalDistance'}>,\n",
       "        <AxesSubplot:title={'center':'joggingTrack'}>,\n",
       "        <AxesSubplot:title={'center':'lift'}>,\n",
       "        <AxesSubplot:title={'center':'powerBackup'}>],\n",
       "       [<AxesSubplot:title={'center':'price'}>,\n",
       "        <AxesSubplot:title={'center':'restrauntDistance'}>,\n",
       "        <AxesSubplot:title={'center':'schoolDistance'}>,\n",
       "        <AxesSubplot:title={'center':'security'}>],\n",
       "       [<AxesSubplot:title={'center':'shoppingDistance'}>,\n",
       "        <AxesSubplot:title={'center':'sportsFacility'}>,\n",
       "        <AxesSubplot:title={'center':'status'}>,\n",
       "        <AxesSubplot:title={'center':'swimmingPool'}>]], dtype=object)"
      ]
     },
     "execution_count": 147,
     "metadata": {},
     "output_type": "execute_result"
    },
    {
     "data": {
      "image/png": "[encoded data removed]",
      "text/plain": [
       "<Figure size 1440x1080 with 20 Axes>"
      ]
     },
     "metadata": {
      "needs_background": "light"
     },
     "output_type": "display_data"
    }
   ],
   "source": [
    "housingData.hist(bins=50, figsize=(20,15))"
   ]
  },
  {
   "cell_type": "markdown",
   "metadata": {},
   "source": [
    "> ### Observations\n",
    "> - The distance to places like schools and restraunt are unavailable in almost half of the datapoints\n",
    "> - The area of half of the houses are around 2100\n",
    "> - Almost 480 percentage of houses in the dataset has atleast 1 balcony\n",
    "> - The house prices ranges from 7,00,000(7 lakhs) to 42,00,00,000(42 crore)\n",
    "> - Most of the houses(50 percentile) of the houses are under 45,00,000(45 lakhs)\n",
    "> - The mean price of houses in the dataset is 70,95,735\n",
    "> - Amneties like lift, gym, swimming pool, etc.. causes to very high prices"
   ]
  },
  {
   "cell_type": "markdown",
   "metadata": {},
   "source": [
    "## Train Test Splitting"
   ]
  },
  {
   "cell_type": "code",
   "execution_count": 148,
   "metadata": {},
   "outputs": [],
   "source": [
    "def splitData(data, ratio:float):\n",
    "    \"\"\"Randomly Shuffles the data and splits it in the given ratio\n",
    "    \n",
    "    Keyword arguments:\n",
    "    data -- The pandas DataFrame to be split\n",
    "    ratio -- The ratio of the data to be splitted to min:0 max:1\n",
    "    Return: Tuple of datas for training and testing\n",
    "    \"\"\"\n",
    "    \n",
    "    shuffle = np.random.permutation(len(data))\n",
    "    i = int((len(data)*ratio))\n",
    "    trainData = shuffle[:i]\n",
    "    testData = shuffle[i:]\n",
    "    return data.iloc[trainData], data.iloc[testData]"
   ]
  },
  {
   "cell_type": "code",
   "execution_count": 149,
   "metadata": {},
   "outputs": [],
   "source": [
    "training, testing = splitData(housingData, 0.85)\n",
    "# splitting the data for training and testing"
   ]
  },
  {
   "cell_type": "code",
   "execution_count": 150,
   "metadata": {},
   "outputs": [
    {
     "data": {
      "text/plain": [
       "'There are 549 sets of data for training the model and 98 sets of data for testing'"
      ]
     },
     "execution_count": 150,
     "metadata": {},
     "output_type": "execute_result"
    }
   ],
   "source": [
    "f\"There are {str(len(training))} sets of data for training the model and {str(len(testing))} sets of data for testing\""
   ]
  },
  {
   "cell_type": "code",
   "execution_count": 151,
   "metadata": {},
   "outputs": [],
   "source": [
    "trainingLabels = training['price']\n",
    "testingLabels = testing['price']\n",
    "# getting the labels for training data "
   ]
  },
  {
   "cell_type": "code",
   "execution_count": 152,
   "metadata": {},
   "outputs": [
    {
     "data": {
      "text/plain": [
       "145     3550000\n",
       "161     3900000\n",
       "598     8000000\n",
       "19      4250000\n",
       "215     4250000\n",
       "         ...   \n",
       "439     4250000\n",
       "602     8000000\n",
       "619     4050000\n",
       "203    14000000\n",
       "54      3550000\n",
       "Name: price, Length: 98, dtype: int64"
      ]
     },
     "execution_count": 152,
     "metadata": {},
     "output_type": "execute_result"
    }
   ],
   "source": [
    "trainingFeatures = training\n",
    "testingFeatures = testing\n",
    "trainingFeatures.pop('price')\n",
    "testingFeatures.pop('price')\n",
    "# getting the features "
   ]
  },
  {
   "cell_type": "code",
   "execution_count": 153,
   "metadata": {},
   "outputs": [],
   "source": [
    "from sklearn.linear_model import LinearRegression\n",
    "# importing the linear regression algorithm "
   ]
  },
  {
   "cell_type": "code",
   "execution_count": 154,
   "metadata": {},
   "outputs": [],
   "source": [
    "model = LinearRegression()\n",
    "# initiating the model "
   ]
  },
  {
   "cell_type": "code",
   "execution_count": 155,
   "metadata": {},
   "outputs": [
    {
     "data": {
      "text/html": [
       "<style>#sk-container-id-1 {color: black;background-color: white;}#sk-container-id-1 pre{padding: 0;}#sk-container-id-1 div.sk-toggleable {background-color: white;}#sk-container-id-1 label.sk-toggleable__label {cursor: pointer;display: block;width: 100%;margin-bottom: 0;padding: 0.3em;box-sizing: border-box;text-align: center;}#sk-container-id-1 label.sk-toggleable__label-arrow:before {content: \"▸\";float: left;margin-right: 0.25em;color: #696969;}#sk-container-id-1 label.sk-toggleable__label-arrow:hover:before {color: black;}#sk-container-id-1 div.sk-estimator:hover label.sk-toggleable__label-arrow:before {color: black;}#sk-container-id-1 div.sk-toggleable__content {max-height: 0;max-width: 0;overflow: hidden;text-align: left;background-color: #f0f8ff;}#sk-container-id-1 div.sk-toggleable__content pre {margin: 0.2em;color: black;border-radius: 0.25em;background-color: #f0f8ff;}#sk-container-id-1 input.sk-toggleable__control:checked~div.sk-toggleable__content {max-height: 200px;max-width: 100%;overflow: auto;}#sk-container-id-1 input.sk-toggleable__control:checked~label.sk-toggleable__label-arrow:before {content: \"▾\";}#sk-container-id-1 div.sk-estimator input.sk-toggleable__control:checked~label.sk-toggleable__label {background-color: #d4ebff;}#sk-container-id-1 div.sk-label input.sk-toggleable__control:checked~label.sk-toggleable__label {background-color: #d4ebff;}#sk-container-id-1 input.sk-hidden--visually {border: 0;clip: rect(1px 1px 1px 1px);clip: rect(1px, 1px, 1px, 1px);height: 1px;margin: -1px;overflow: hidden;padding: 0;position: absolute;width: 1px;}#sk-container-id-1 div.sk-estimator {font-family: monospace;background-color: #f0f8ff;border: 1px dotted black;border-radius: 0.25em;box-sizing: border-box;margin-bottom: 0.5em;}#sk-container-id-1 div.sk-estimator:hover {background-color: #d4ebff;}#sk-container-id-1 div.sk-parallel-item::after {content: \"\";width: 100%;border-bottom: 1px solid gray;flex-grow: 1;}#sk-container-id-1 div.sk-label:hover label.sk-toggleable__label {background-color: #d4ebff;}#sk-container-id-1 div.sk-serial::before {content: \"\";position: absolute;border-left: 1px solid gray;box-sizing: border-box;top: 0;bottom: 0;left: 50%;z-index: 0;}#sk-container-id-1 div.sk-serial {display: flex;flex-direction: column;align-items: center;background-color: white;padding-right: 0.2em;padding-left: 0.2em;position: relative;}#sk-container-id-1 div.sk-item {position: relative;z-index: 1;}#sk-container-id-1 div.sk-parallel {display: flex;align-items: stretch;justify-content: center;background-color: white;position: relative;}#sk-container-id-1 div.sk-item::before, #sk-container-id-1 div.sk-parallel-item::before {content: \"\";position: absolute;border-left: 1px solid gray;box-sizing: border-box;top: 0;bottom: 0;left: 50%;z-index: -1;}#sk-container-id-1 div.sk-parallel-item {display: flex;flex-direction: column;z-index: 1;position: relative;background-color: white;}#sk-container-id-1 div.sk-parallel-item:first-child::after {align-self: flex-end;width: 50%;}#sk-container-id-1 div.sk-parallel-item:last-child::after {align-self: flex-start;width: 50%;}#sk-container-id-1 div.sk-parallel-item:only-child::after {width: 0;}#sk-container-id-1 div.sk-dashed-wrapped {border: 1px dashed gray;margin: 0 0.4em 0.5em 0.4em;box-sizing: border-box;padding-bottom: 0.4em;background-color: white;}#sk-container-id-1 div.sk-label label {font-family: monospace;font-weight: bold;display: inline-block;line-height: 1.2em;}#sk-container-id-1 div.sk-label-container {text-align: center;}#sk-container-id-1 div.sk-container {/* jupyter's `normalize.less` sets `[hidden] { display: none; }` but bootstrap.min.css set `[hidden] { display: none !important; }` so we also need the `!important` here to be able to override the default hidden behavior on the sphinx rendered scikit-learn.org. See: https://github.com/scikit-learn/scikit-learn/issues/21755 */display: inline-block !important;position: relative;}#sk-container-id-1 div.sk-text-repr-fallback {display: none;}</style><div id=\"sk-container-id-1\" class=\"sk-top-container\"><div class=\"sk-text-repr-fallback\"><pre>LinearRegression()</pre><b>In a Jupyter environment, please rerun this cell to show the HTML representation or trust the notebook. <br />On GitHub, the HTML representation is unable to render, please try loading this page with nbviewer.org.</b></div><div class=\"sk-container\" hidden><div class=\"sk-item\"><div class=\"sk-estimator sk-toggleable\"><input class=\"sk-toggleable__control sk-hidden--visually\" id=\"sk-estimator-id-1\" type=\"checkbox\" checked><label for=\"sk-estimator-id-1\" class=\"sk-toggleable__label sk-toggleable__label-arrow\">LinearRegression</label><div class=\"sk-toggleable__content\"><pre>LinearRegression()</pre></div></div></div></div></div>"
      ],
      "text/plain": [
       "LinearRegression()"
      ]
     },
     "execution_count": 155,
     "metadata": {},
     "output_type": "execute_result"
    }
   ],
   "source": [
    "model.fit(trainingFeatures, trainingLabels)\n",
    "# training the model"
   ]
  },
  {
   "cell_type": "code",
   "execution_count": 157,
   "metadata": {},
   "outputs": [],
   "source": [
    "prediction = model.predict(testingFeatures)"
   ]
  },
  {
   "cell_type": "code",
   "execution_count": 159,
   "metadata": {},
   "outputs": [
    {
     "data": {
      "text/plain": [
       "-2.5634921914072946"
      ]
     },
     "execution_count": 159,
     "metadata": {},
     "output_type": "execute_result"
    }
   ],
   "source": [
    "from sklearn.metrics import r2_score\n",
    "\n",
    "r2_score(testingLabels, prediction)"
   ]
  },
  {
   "cell_type": "code",
   "execution_count": 173,
   "metadata": {},
   "outputs": [],
   "source": [
    "Features = housingData\n",
    "Labels = Features.pop('price')"
   ]
  },
  {
   "cell_type": "code",
   "execution_count": 174,
   "metadata": {},
   "outputs": [],
   "source": [
    "model = LinearRegression()"
   ]
  },
  {
   "cell_type": "code",
   "execution_count": 175,
   "metadata": {},
   "outputs": [
    {
     "data": {
      "text/html": [
       "<style>#sk-container-id-2 {color: black;background-color: white;}#sk-container-id-2 pre{padding: 0;}#sk-container-id-2 div.sk-toggleable {background-color: white;}#sk-container-id-2 label.sk-toggleable__label {cursor: pointer;display: block;width: 100%;margin-bottom: 0;padding: 0.3em;box-sizing: border-box;text-align: center;}#sk-container-id-2 label.sk-toggleable__label-arrow:before {content: \"▸\";float: left;margin-right: 0.25em;color: #696969;}#sk-container-id-2 label.sk-toggleable__label-arrow:hover:before {color: black;}#sk-container-id-2 div.sk-estimator:hover label.sk-toggleable__label-arrow:before {color: black;}#sk-container-id-2 div.sk-toggleable__content {max-height: 0;max-width: 0;overflow: hidden;text-align: left;background-color: #f0f8ff;}#sk-container-id-2 div.sk-toggleable__content pre {margin: 0.2em;color: black;border-radius: 0.25em;background-color: #f0f8ff;}#sk-container-id-2 input.sk-toggleable__control:checked~div.sk-toggleable__content {max-height: 200px;max-width: 100%;overflow: auto;}#sk-container-id-2 input.sk-toggleable__control:checked~label.sk-toggleable__label-arrow:before {content: \"▾\";}#sk-container-id-2 div.sk-estimator input.sk-toggleable__control:checked~label.sk-toggleable__label {background-color: #d4ebff;}#sk-container-id-2 div.sk-label input.sk-toggleable__control:checked~label.sk-toggleable__label {background-color: #d4ebff;}#sk-container-id-2 input.sk-hidden--visually {border: 0;clip: rect(1px 1px 1px 1px);clip: rect(1px, 1px, 1px, 1px);height: 1px;margin: -1px;overflow: hidden;padding: 0;position: absolute;width: 1px;}#sk-container-id-2 div.sk-estimator {font-family: monospace;background-color: #f0f8ff;border: 1px dotted black;border-radius: 0.25em;box-sizing: border-box;margin-bottom: 0.5em;}#sk-container-id-2 div.sk-estimator:hover {background-color: #d4ebff;}#sk-container-id-2 div.sk-parallel-item::after {content: \"\";width: 100%;border-bottom: 1px solid gray;flex-grow: 1;}#sk-container-id-2 div.sk-label:hover label.sk-toggleable__label {background-color: #d4ebff;}#sk-container-id-2 div.sk-serial::before {content: \"\";position: absolute;border-left: 1px solid gray;box-sizing: border-box;top: 0;bottom: 0;left: 50%;z-index: 0;}#sk-container-id-2 div.sk-serial {display: flex;flex-direction: column;align-items: center;background-color: white;padding-right: 0.2em;padding-left: 0.2em;position: relative;}#sk-container-id-2 div.sk-item {position: relative;z-index: 1;}#sk-container-id-2 div.sk-parallel {display: flex;align-items: stretch;justify-content: center;background-color: white;position: relative;}#sk-container-id-2 div.sk-item::before, #sk-container-id-2 div.sk-parallel-item::before {content: \"\";position: absolute;border-left: 1px solid gray;box-sizing: border-box;top: 0;bottom: 0;left: 50%;z-index: -1;}#sk-container-id-2 div.sk-parallel-item {display: flex;flex-direction: column;z-index: 1;position: relative;background-color: white;}#sk-container-id-2 div.sk-parallel-item:first-child::after {align-self: flex-end;width: 50%;}#sk-container-id-2 div.sk-parallel-item:last-child::after {align-self: flex-start;width: 50%;}#sk-container-id-2 div.sk-parallel-item:only-child::after {width: 0;}#sk-container-id-2 div.sk-dashed-wrapped {border: 1px dashed gray;margin: 0 0.4em 0.5em 0.4em;box-sizing: border-box;padding-bottom: 0.4em;background-color: white;}#sk-container-id-2 div.sk-label label {font-family: monospace;font-weight: bold;display: inline-block;line-height: 1.2em;}#sk-container-id-2 div.sk-label-container {text-align: center;}#sk-container-id-2 div.sk-container {/* jupyter's `normalize.less` sets `[hidden] { display: none; }` but bootstrap.min.css set `[hidden] { display: none !important; }` so we also need the `!important` here to be able to override the default hidden behavior on the sphinx rendered scikit-learn.org. See: https://github.com/scikit-learn/scikit-learn/issues/21755 */display: inline-block !important;position: relative;}#sk-container-id-2 div.sk-text-repr-fallback {display: none;}</style><div id=\"sk-container-id-2\" class=\"sk-top-container\"><div class=\"sk-text-repr-fallback\"><pre>LinearRegression()</pre><b>In a Jupyter environment, please rerun this cell to show the HTML representation or trust the notebook. <br />On GitHub, the HTML representation is unable to render, please try loading this page with nbviewer.org.</b></div><div class=\"sk-container\" hidden><div class=\"sk-item\"><div class=\"sk-estimator sk-toggleable\"><input class=\"sk-toggleable__control sk-hidden--visually\" id=\"sk-estimator-id-2\" type=\"checkbox\" checked><label for=\"sk-estimator-id-2\" class=\"sk-toggleable__label sk-toggleable__label-arrow\">LinearRegression</label><div class=\"sk-toggleable__content\"><pre>LinearRegression()</pre></div></div></div></div></div>"
      ],
      "text/plain": [
       "LinearRegression()"
      ]
     },
     "execution_count": 175,
     "metadata": {},
     "output_type": "execute_result"
    }
   ],
   "source": [
    "model.fit(Features, Labels)"
   ]
  },
  {
   "cell_type": "code",
   "execution_count": 176,
   "metadata": {},
   "outputs": [],
   "source": [
    "import pickle\n",
    "\n",
    "with open(\"model.sav\", \"wb\") as f:\n",
    "    pickle.dump(model, f)"
   ]
  }
 ],
 "metadata": {
  "kernelspec": {
   "display_name": "Python 3.10.5 64-bit",
   "language": "python",
   "name": "python3"
  },
  "language_info": {
   "codemirror_mode": {
    "name": "ipython",
    "version": 3
   },
   "file_extension": ".py",
   "mimetype": "text/x-python",
   "name": "python",
   "nbconvert_exporter": "python",
   "pygments_lexer": "ipython3",
   "version": "3.10.5"
  },
  "orig_nbformat": 4,
  "vscode": {
   "interpreter": {
    "hash": "56a2bb4cfc9c636837f5957835ef9e1f1bcd89c404a30c46e5ecea9d503b0849"
   }
  }
 },
 "nbformat": 4,
 "nbformat_minor": 2
}
